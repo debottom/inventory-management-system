{
 "cells": [
  {
   "cell_type": "markdown",
   "id": "295a2c40",
   "metadata": {},
   "source": [
    "\n",
    "Read Data from JSON"
   ]
  },
  {
   "cell_type": "code",
   "execution_count": 88,
   "id": "969d08cc",
   "metadata": {},
   "outputs": [],
   "source": [
    "fd = open(\"record.json\",'r')\n",
    "r = fd.read()\n",
    "fd.close()\n",
    "\n",
    "record = json.loads(r)\n",
    "import json\n",
    "import time"
   ]
  },
  {
   "cell_type": "markdown",
   "id": "e7400b28",
   "metadata": {},
   "source": [
    "Add New Item into Inventory"
   ]
  },
  {
   "cell_type": "code",
   "execution_count": 105,
   "id": "15eb81c5",
   "metadata": {},
   "outputs": [
    {
     "name": "stdout",
     "output_type": "stream",
     "text": [
      "Enter product id:1032\n",
      "Enter name:charger\n",
      "Enter company name: sony\n",
      "Enter price:234\n",
      "Enter quantity:89\n",
      "want to enter new data press 1 else press 0 :0\n"
     ]
    }
   ],
   "source": [
    "while True:\n",
    "    prod_id = int(input(\"Enter product id:\"))\n",
    "    name = str(input(\"Enter name:\"))\n",
    "    company = str(input(\"Enter company name: \"))\n",
    "    pr = int(input(\"Enter price:\"))\n",
    "    qn = int(input(\"Enter quantity:\"))\n",
    "    user_responses=(input(\"want to enter new data press 1 else press 0 :\"))\n",
    "    record[prod_id] = {'name': name,'company':company, 'pr': pr, 'qn': qn}\n",
    "\n",
    "    js = json.dumps(record)\n",
    "\n",
    "    fd = open(\"record.json\",'w')\n",
    "    fd.write(js)\n",
    "    fd.close()\n",
    "    if(user_responses=='0'):\n",
    "        break"
   ]
  },
  {
   "cell_type": "markdown",
   "id": "6baa0608",
   "metadata": {},
   "source": [
    "purchase new product"
   ]
  },
  {
   "cell_type": "code",
   "execution_count": 107,
   "id": "4878189f",
   "metadata": {},
   "outputs": [
    {
     "name": "stdout",
     "output_type": "stream",
     "text": [
      "Enter the product_Id: 1022\n",
      "Enter the quantity: 3\n",
      "Product:  graphics card\n",
      "Price:  45000\n",
      "Billing Amount:  135000\n",
      "Date: Mon Sep  6 19:04:32 2021\n"
     ]
    }
   ],
   "source": [
    "\n",
    "ui_prod  = str(input(\"Enter the product_Id: \"))\n",
    "ui_quant = int(input(\"Enter the quantity: \"))\n",
    "\n",
    "\n",
    "print(\"Product: \", record[ui_prod]['name'])\n",
    "print(\"Price: \", record[ui_prod]['pr'])\n",
    "print(\"Billing Amount: \", record[ui_prod]['pr'] * ui_quant)\n",
    "print(\"Date:\",time.ctime())\n",
    "if(record[ui_prod]['qn']>0):\n",
    "    record[ui_prod]['qn'] = record[ui_prod]['qn'] - ui_quant\n",
    "else:\n",
    "     print(\"product not available\")"
   ]
  },
  {
   "cell_type": "markdown",
   "id": "40820ad2",
   "metadata": {},
   "source": [
    "\n",
    "Update Inventory after purchase"
   ]
  },
  {
   "cell_type": "code",
   "execution_count": 108,
   "id": "0487c2cf",
   "metadata": {},
   "outputs": [],
   "source": [
    "js = json.dumps(record)\n",
    "\n",
    "fd = open(\"record.json\",'w')\n",
    "fd.write(js)\n",
    "fd.close()"
   ]
  },
  {
   "cell_type": "markdown",
   "id": "ff2abd6b",
   "metadata": {},
   "source": [
    "\n",
    " Parches Bill"
   ]
  },
  {
   "cell_type": "code",
   "execution_count": 117,
   "id": "502a1182",
   "metadata": {},
   "outputs": [
    {
     "name": "stdout",
     "output_type": "stream",
     "text": [
      "**************Welcome*****************\n",
      "**************************************\n",
      "productName Company quantity price\n",
      "company name-> Nvidia. product name-> graphics card quentaty-> 5\n",
      "_____________________________________\n",
      "-------------------------------------\n",
      "Your total bill is: 135000 ₹\n",
      "Date: Mon Sep  6 19:11:49 2021\n",
      "**************************************\n",
      "**************************************\n",
      "_______Thanku for the purches_________\n",
      "                🙏                   \n"
     ]
    }
   ],
   "source": [
    "print(\"**************Welcome*****************\")\n",
    "print(\"**************************************\") \n",
    "print(\"productName\",\"Company\",\"quantity\",\"price\")\n",
    "\n",
    "print(\"company name->\",record[ui_prod]['company'],\"product name->\",record[ui_prod]['name'],\"quentaty->\", record[ui_prod]['qn'])\n",
    "print(\"_____________________________________\")\n",
    "print(\"-------------------------------------\")\n",
    "print(\"Your total bill is:\",record[ui_prod]['pr'] * ui_quant,\"₹\")\n",
    "print(\"Date:\",time.ctime())\n",
    "print(\"**************************************\")\n",
    "print(\"**************************************\")\n",
    "print(\"_______Thanku for the purches_________\")\n",
    "print(\"                🙏                   \")"
   ]
  },
  {
   "cell_type": "markdown",
   "id": "851d5879",
   "metadata": {},
   "source": [
    "update inventory\n"
   ]
  },
  {
   "cell_type": "code",
   "execution_count": 110,
   "id": "28ff76eb",
   "metadata": {},
   "outputs": [],
   "source": [
    "sales={'prod' : ui_prod, 'qn' : ui_quant, 'amount': record[ui_prod]['pr'] * ui_quant}\n",
    "sale = json.dumps(sales)\n",
    "\n",
    "fd = open(\"sales.json\",'w')\n",
    "fd.write(sale)\n",
    "fd.close()\n"
   ]
  },
  {
   "cell_type": "code",
   "execution_count": 111,
   "id": "bb1bf0c5",
   "metadata": {},
   "outputs": [
    {
     "data": {
      "text/plain": [
       "{'prod': '1022', 'qn': 3, 'amount': 135000}"
      ]
     },
     "execution_count": 111,
     "metadata": {},
     "output_type": "execute_result"
    }
   ],
   "source": [
    "sales"
   ]
  },
  {
   "cell_type": "code",
   "execution_count": 112,
   "id": "312bb7f7",
   "metadata": {
    "scrolled": true
   },
   "outputs": [
    {
     "data": {
      "text/plain": [
       "{'1001': {'name': 'Choco Cake', 'company': 'britana', 'pr': 100, 'qn': 29},\n",
       " '1002': {'name': 'banana', 'company': 'keventer', 'pr': 25, 'qn': 50},\n",
       " '1003': {'name': 'frooty', 'company': 'parl', 'pr': 45, 'qn': 100},\n",
       " '1004': {'name': 'lays', 'company': 'PepsiCo', 'pr': 20, 'qn': 400},\n",
       " '1005': {'name': 'Kurkure', 'company': 'PepsiCo', 'pr': 23, 'qn': 277},\n",
       " '1006': {'name': 'Sprite', 'company': 'Coca-Cola', 'pr': 50, 'qn': 99},\n",
       " '1007': {'name': 'cocola', 'company': 'Coca-Cola', 'pr': 30, 'qn': 100},\n",
       " '1008': {'name': 'catbary', 'company': 'Dairy Milk', 'pr': 25, 'qn': 48},\n",
       " '1009': {'name': 'KitKat', 'company': 'Nestlé', 'pr': 45, 'qn': 43},\n",
       " '1010': {'name': 'doritos', 'company': 'PepsiCo', 'pr': 20, 'qn': 100},\n",
       " '1012': {'name': 'pen', 'company': 'parker', 'pr': 4, 'qn': 398},\n",
       " '1013': {'name': 'notebook',\n",
       "  'company': 'JK Paper Limited. .',\n",
       "  'pr': 35,\n",
       "  'qn': 300},\n",
       " '1014': {'name': 'notebook',\n",
       "  'company': 'Kokuyo Camlin Limited. ',\n",
       "  'pr': 45,\n",
       "  'qn': 245},\n",
       " '1015': {'name': 'pensile', 'company': 'Nataraj ', 'pr': 3, 'qn': 500},\n",
       " '1016': {'name': 'Mouse', 'company': 'Cooler Master.', 'pr': 300, 'qn': 50},\n",
       " '1017': {'name': 'keyboard', 'company': 'Logitech', 'pr': 1000, 'qn': 25},\n",
       " '1018': {'name': 'moniter', 'company': 'dell', 'pr': 1340, 'qn': 30},\n",
       " '1019': {'name': 'Phone', 'company': 'samsong', 'pr': 5000, 'qn': 20},\n",
       " '1020': {'name': 'headphone', 'company': 'samsong', 'pr': 300, 'qn': 30},\n",
       " '1021': {'name': 'powerbank', 'company': 'sony', 'pr': 3000, 'qn': 16},\n",
       " '1022': {'name': 'graphics card', 'company': 'Nvidia.', 'pr': 45000, 'qn': 5},\n",
       " '1023': {'name': 'ram', 'company': 'Kingston', 'pr': 400, 'qn': 44},\n",
       " '1024': {'name': 'ssd', 'company': 'Kingston', 'pr': 897, 'qn': 20},\n",
       " '1025': {'name': 'harddisk', 'company': 'EVM', 'pr': 450, 'qn': 210},\n",
       " '1026': {'name': 'laptop', 'company': 'Asus', 'pr': 6700, 'qn': 45},\n",
       " '1027': {'name': 'router', 'company': 'Arista ', 'pr': 342, 'qn': 34},\n",
       " '1028': {'name': 'pendrive', 'company': 'Kingston', 'pr': 450, 'qn': 230},\n",
       " '1029': {'name': 'Fibre-Optic Cable',\n",
       "  'company': 'Paramount Cables India,',\n",
       "  'pr': 235,\n",
       "  'qn': 675},\n",
       " '1030': {'name': \"assassin's creed\",\n",
       "  'company': 'Ubisoft',\n",
       "  'pr': 1255,\n",
       "  'qn': 500},\n",
       " '1031': {'name': 'somw think', 'company': 'somthink', 'pr': 55, 'qn': 768},\n",
       " 1032: {'name': 'charger', 'company': 'sony', 'pr': 234, 'qn': 89}}"
      ]
     },
     "execution_count": 112,
     "metadata": {},
     "output_type": "execute_result"
    }
   ],
   "source": [
    "\n",
    "record"
   ]
  },
  {
   "cell_type": "code",
   "execution_count": 89,
   "id": "1ad301cf",
   "metadata": {},
   "outputs": [
    {
     "data": {
      "text/plain": [
       "{'prod': '1012', 'qn': 2, 'amount': 8}"
      ]
     },
     "execution_count": 89,
     "metadata": {},
     "output_type": "execute_result"
    }
   ],
   "source": [
    "sales"
   ]
  },
  {
   "cell_type": "code",
   "execution_count": null,
   "id": "aa46f5a6",
   "metadata": {},
   "outputs": [],
   "source": []
  },
  {
   "cell_type": "code",
   "execution_count": null,
   "id": "0c080b91",
   "metadata": {},
   "outputs": [],
   "source": []
  },
  {
   "cell_type": "code",
   "execution_count": null,
   "id": "0262ad78",
   "metadata": {},
   "outputs": [],
   "source": []
  },
  {
   "cell_type": "code",
   "execution_count": null,
   "id": "f716fabf",
   "metadata": {},
   "outputs": [],
   "source": []
  },
  {
   "cell_type": "code",
   "execution_count": null,
   "id": "a96fbfd6",
   "metadata": {},
   "outputs": [],
   "source": []
  }
 ],
 "metadata": {
  "kernelspec": {
   "display_name": "Python 3",
   "language": "python",
   "name": "python3"
  },
  "language_info": {
   "codemirror_mode": {
    "name": "ipython",
    "version": 3
   },
   "file_extension": ".py",
   "mimetype": "text/x-python",
   "name": "python",
   "nbconvert_exporter": "python",
   "pygments_lexer": "ipython3",
   "version": "3.8.8"
  }
 },
 "nbformat": 4,
 "nbformat_minor": 5
}
